{
 "cells": [
  {
   "cell_type": "code",
   "execution_count": 1,
   "metadata": {},
   "outputs": [],
   "source": [
    "from datasets.dataset import Dataset\n",
    "\n",
    "from Util.qm import QueryManager\n",
    "import argparse\n",
    "import numpy as np\n",
    "import time\n",
    "import pandas as pd\n",
    "import multiprocessing as mp\n",
    "from Util import oracle, util2, benchmarks\n",
    "from tqdm import tqdm\n",
    "from algorithms import dualquery, mwem, fem\n",
    "import matplotlib.pyplot as plt"
   ]
  },
  {
   "cell_type": "code",
   "execution_count": null,
   "metadata": {},
   "outputs": [],
   "source": []
  },
  {
   "cell_type": "code",
   "execution_count": 2,
   "metadata": {},
   "outputs": [
    {
     "name": "stdout",
     "output_type": "stream",
     "text": [
      "Number of queries =  458996\n"
     ]
    }
   ],
   "source": [
    "dataset = 'adult'\n",
    "workload = 64\n",
    "marginal = 3\n",
    "\n",
    "\n",
    "######################################################\n",
    "## Get dataset\n",
    "######################################################\n",
    "data, workloads = benchmarks.randomKway(dataset, workload, marginal)\n",
    "N = data.df.shape[0]\n",
    "delta=1/N**2\n",
    "######################################################\n",
    "## Get Queries\n",
    "######################################################\n",
    "stime = time.time()\n",
    "query_manager = QueryManager(data.domain, workloads)\n",
    "print(\"Number of queries = \", len(query_manager.queries))\n",
    "\n",
    "real_ans = query_manager.get_answer(data)\n",
    "epsilon_list= np.linspace(0.1, 0.5, 5)\n",
    "total_runs = 5"
   ]
  },
  {
   "cell_type": "code",
   "execution_count": null,
   "metadata": {},
   "outputs": [],
   "source": []
  },
  {
   "cell_type": "code",
   "execution_count": null,
   "metadata": {},
   "outputs": [],
   "source": [
    "dq_data_fun = {}\n",
    "for i in range(total_runs):\n",
    "    dq_data_fun[i] = dualquery.generate(real_ans, N, data.domain, query_manager, epsilon_list, delta, eta=3.36, samples=9)"
   ]
  },
  {
   "cell_type": "code",
   "execution_count": null,
   "metadata": {},
   "outputs": [],
   "source": []
  },
  {
   "cell_type": "code",
   "execution_count": null,
   "metadata": {},
   "outputs": [],
   "source": []
  },
  {
   "cell_type": "code",
   "execution_count": null,
   "metadata": {},
   "outputs": [],
   "source": [
    "fem_data_fun = {}\n",
    "for i in range(total_runs):\n",
    "    fem_data_fun[i] = fem.generate(real_ans, N, data.domain, query_manager, epsilon_list, delta, epsilon_split=0.0135, noise_multiple=0.099, samples=25)"
   ]
  },
  {
   "cell_type": "code",
   "execution_count": 3,
   "metadata": {},
   "outputs": [
    {
     "name": "stderr",
     "output_type": "stream",
     "text": [
      "  0%|          | 1/392 [00:00<00:00, 17260.51it/s, eps0=0.00135]"
     ]
    },
    {
     "name": "stdout",
     "output_type": "stream",
     "text": [
      "T = 392, noise = 1.9600999974491098\n"
     ]
    },
    {
     "name": "stderr",
     "output_type": "stream",
     "text": [
      "100%|██████████| 392/392 [34:11<00:00,  5.23s/it, eps0=0.00675] \n",
      "100%|██████████| 392/392 [35:37<00:00,  5.45s/it, eps0=0.00675] \n",
      "100%|██████████| 392/392 [34:48<00:00,  5.33s/it, eps0=0.00675] \n",
      "100%|██████████| 392/392 [34:33<00:00,  5.29s/it, eps0=0.00675] \n",
      "100%|██████████| 392/392 [33:08<00:00,  5.07s/it, eps0=0.00675] \n"
     ]
    }
   ],
   "source": [
    "fem_data_fun_50_samples = {}\n",
    "for i in range(total_runs):\n",
    "    fem_data_fun_50_samples[i] = fem.generate(real_ans, N, data.domain, query_manager, epsilon_list, delta, epsilon_split=0.0135, noise_multiple=0.099, samples=50)\n",
    "    "
   ]
  },
  {
   "cell_type": "code",
   "execution_count": null,
   "metadata": {},
   "outputs": [],
   "source": [
    "\n"
   ]
  },
  {
   "cell_type": "code",
   "execution_count": null,
   "metadata": {},
   "outputs": [],
   "source": [
    "def get_error(data_fun, mwem_eps0=0.02):\n",
    "    total_runs = len(data_fun)\n",
    "    total_eps = [0.5, 1, 2]\n",
    "    epsilon_split=0.02\n",
    "    # mwem_error = {}\n",
    "\n",
    "    support_error = {}\n",
    "    mwem_error = {}\n",
    "    mwem_epsilon_values = [0.5, 1]\n",
    "\n",
    "    for run_id in range(total_runs):\n",
    "        support_error[run_id] = []\n",
    "        mwem_error[run_id] = {}\n",
    "        for mwem_eps in mwem_epsilon_values:\n",
    "            mwem_error[run_id][mwem_eps] = []\n",
    "\n",
    "        for eps in epsilon_list:\n",
    "            syn_data, cumulative_rho = data_fun[run_id](eps)\n",
    "            fd_sz = syn_data.df.shape[0]\n",
    "            q_max_error = np.abs(real_ans - query_manager.get_answer(syn_data)).max()\n",
    "            support_error[run_id].append(q_max_error)\n",
    "\n",
    "            for mwem_eps in mwem_epsilon_values:\n",
    "                mwem_support, A = mwem.generate(syn_data, real_ans, N, query_manager, \n",
    "                                            epsilon=mwem_eps, delta=delta, \n",
    "                                            epsilon_split=mwem_eps0,\n",
    "                                            cumulative_rho=cumulative_rho)\n",
    "\n",
    "                mwem_max_error = np.abs(real_ans - query_manager.get_answer(mwem_support, A)).max()\n",
    "                mwem_error[run_id][mwem_eps].append(mwem_max_error)\n",
    "    return support_error, mwem_error\n",
    "\n",
    "\n",
    "# \n",
    "def plot_error(title, support_label, mwem_label, support_error, mwem_error):\n",
    "    plt.title(title)\n",
    "\n",
    "    support_error_np = np.array([support_error[run_id] for run_id in range(total_runs)])\n",
    "    support_error_max = np.max(support_error_np, axis=0)\n",
    "    support_error_min = np.min(support_error_np, axis=0)\n",
    "    support_error_ave = np.mean(support_error_np, axis=0)\n",
    "    plt.fill_between(epsilon_list, support_error_min, support_error_max, alpha=0.1)\n",
    "    plt.plot(epsilon_list, support_error_ave, '--o', label=support_label)\n",
    "\n",
    "    for mwem_eps in mwem_epsilon_values:\n",
    "        mwem_error_np = np.array([mwem_error[run_id][mwem_eps] for run_id in range(total_runs)])\n",
    "        mwem_error_max = np.max(mwem_error_np, axis=0)\n",
    "        mwem_error_min = np.min(mwem_error_np, axis=0)\n",
    "        mwem_error_average = np.mean(mwem_error_np, axis=0)\n",
    "        plt.fill_between(epsilon_list, mwem_error_min, mwem_error_max, alpha=0.1)\n",
    "        plt.plot(epsilon_list, mwem_error_average, '-o', label=f'{mwem_label}, epsilon={mwem_eps}')\n",
    "\n",
    "\n",
    "    plt.xticks(epsilon_list, rotation='vertical')\n",
    "    plt.xlabel('epsilon budget split')\n",
    "    plt.ylabel('max-error')\n",
    "    plt.legend()\n",
    "    plt.grid(linestyle='-')\n",
    "    plt.box(on=None)\n",
    "    "
   ]
  },
  {
   "cell_type": "code",
   "execution_count": null,
   "metadata": {},
   "outputs": [],
   "source": [
    "eps0_list = [0.01, 0.015, 0.02, 0.025, 0.03, 0.035, 0.04]\n",
    "\n",
    "for eps0 in eps0_list:\n",
    "    fem_50_error, fem_mwem_50_error = get_error(fem_data_fun_50_samples, mwem_eps0=eps0)\n",
    "    plot_error('FEM+MWEM 50 samples. mwem_eps0={eps0}'.format(eps0), 'FEM alone', 'FEM+MWEM', fem_50_error, fem_mwem_50_error)\n",
    "# fem_25_error, fem_mwem_25_error = get_error(fem_data_fun)"
   ]
  },
  {
   "cell_type": "code",
   "execution_count": null,
   "metadata": {},
   "outputs": [],
   "source": [
    "\n"
   ]
  },
  {
   "cell_type": "code",
   "execution_count": null,
   "metadata": {},
   "outputs": [],
   "source": [
    "plot_error('FEM+MWEM 25 samples. Averaged over 5 runs', 'FEM alone', 'FEM+MWEM', fem_25_error, fem_mwem_25_error)\n"
   ]
  },
  {
   "cell_type": "code",
   "execution_count": null,
   "metadata": {},
   "outputs": [],
   "source": [
    "dq_error, dq_mwem_error = get_error(dq_data_fun)\n",
    "plot_error('DQ+MWEM. Averaged over 5 runs', 'DQ alone', 'DQ+MWEM', dq_error, dq_mwem_error)\n"
   ]
  }
 ],
 "metadata": {
  "kernelspec": {
   "display_name": "Python 3",
   "language": "python",
   "name": "python3"
  },
  "language_info": {
   "codemirror_mode": {
    "name": "ipython",
    "version": 3
   },
   "file_extension": ".py",
   "mimetype": "text/x-python",
   "name": "python",
   "nbconvert_exporter": "python",
   "pygments_lexer": "ipython3",
   "version": "3.7.8"
  }
 },
 "nbformat": 4,
 "nbformat_minor": 4
}
