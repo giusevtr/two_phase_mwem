{
 "cells": [
  {
   "cell_type": "code",
   "execution_count": 6,
   "metadata": {
    "collapsed": true
   },
   "outputs": [
    {
     "name": "stdout",
     "output_type": "stream",
     "text": [
      "debug\n"
     ]
    }
   ],
   "source": [
    "import numpy as np\n",
    "import matplotlib.pyplot as plt\n",
    "from Util import oracle, util2, benchmarks\n",
    "from algorithms import dualquery, mwem\n",
    "from Util.qm import QueryManager\n",
    "\n",
    "\n",
    "def get_dq_mwem_answers(data, real_ans, query_manager, N, rho_dq, rho_mwem):\n",
    "    ######################################################\n",
    "    ## Get dataset\n",
    "    ######################################################\n",
    "    print(f'satisfies {np.sqrt(2*(rho_dq + rho_mwem))}-DP')\n",
    "    dq_data = dualquery.generate(data, query_manager, epsilon=np.sqrt(2*rho_dq))\n",
    "    mwem_support, A = mwem.generate(dq_data, N, real_ans, query_manager, rho=rho_mwem, T=100)\n",
    "\n",
    "    max_error = np.abs(real_ans - query_manager.get_answer(mwem_support, A)).max()\n",
    "    print('max_error = ', max_error)\n",
    "    return max_error\n",
    "print('debug')"
   ]
  },
  {
   "cell_type": "code",
   "execution_count": 4,
   "outputs": [
    {
     "name": "stdout",
     "output_type": "stream",
     "text": [
      "Number of queries =  458996\n",
      "satisfies 1.4142135623730951-DP\n",
      "Using license file /Users/vietr002/gurobi.lic\n",
      "Academic license - for non-commercial use only\n",
      "[--------------------] 0.443 out of 0.4472135954999579: dualquery: t=102\r\n",
      "max_error =  0.0718552763495066\n",
      "satisfies 1.4142135623730951-DP\n",
      "[--------------------] 0.626 out of 0.6324555320336759: dualquery: t=127\r\n",
      "max_error =  0.0683121082440958\n",
      "satisfies 1.4142135623730951-DP\n",
      "[--------------------] 0.773 out of 0.7745966692414834: dualquery: t=145\r\n",
      "max_error =  0.06698083637316832\n",
      "satisfies 1.4142135623730951-DP\n",
      "[--------------------] 0.887 out of 0.8944271909999159: dualquery: t=158\r\n",
      "max_error =  0.07109042323520061\n",
      "satisfies 1.4142135623730951-DP\n",
      "[--------------------] 0.999 out of 1.0: dualquery: t=170\r\n",
      "max_error =  0.07869837770357811\n",
      "satisfies 1.4142135623730951-DP\n",
      "[--------------------] 1.086 out of 1.0954451150103324: dualquery: t=179\r\n",
      "max_error =  0.07256274325416869\n",
      "satisfies 1.4142135623730951-DP\n",
      "[--------------------] 1.177 out of 1.1832159566199232: dualquery: t=188\r\n",
      "max_error =  0.07479885609529913\n",
      "satisfies 1.4142135623730951-DP\n",
      "[--------------------] 1.260 out of 1.2649110640673518: dualquery: t=196\r\n",
      "max_error =  0.08346609793403847\n",
      "satisfies 1.4142135623730951-DP\n",
      "[--------------------] 1.335 out of 1.3416407864998738: dualquery: t=203\r\n",
      "max_error =  0.06999912982616648\n"
     ]
    },
    {
     "name": "stderr",
     "output_type": "stream",
     "text": [
      "WMEM: 100%|██████████| 100/100 [00:21<00:00,  4.61it/s]\n",
      "WMEM: 100%|██████████| 100/100 [00:20<00:00,  4.88it/s]\n",
      "WMEM: 100%|██████████| 100/100 [00:21<00:00,  4.71it/s]\n",
      "WMEM: 100%|██████████| 100/100 [00:22<00:00,  4.43it/s]\n",
      "WMEM: 100%|██████████| 100/100 [00:20<00:00,  4.95it/s]\n",
      "WMEM: 100%|██████████| 100/100 [00:19<00:00,  5.05it/s]\n",
      "WMEM: 100%|██████████| 100/100 [00:19<00:00,  5.02it/s]\n",
      "WMEM: 100%|██████████| 100/100 [00:21<00:00,  4.69it/s]\n",
      "WMEM: 100%|██████████| 100/100 [00:23<00:00,  4.33it/s]\n"
     ]
    }
   ],
   "source": [
    "data, workloads = benchmarks.randomKway('adult', 64, 3)\n",
    "N = data.df.shape[0]\n",
    "\n",
    "######################################################\n",
    "## Get Queries\n",
    "######################################################\n",
    "query_manager = QueryManager(data.domain, workloads)\n",
    "print(\"Number of queries = \", len(query_manager.queries))\n",
    "real_ans = query_manager.get_answer(data)\n",
    "\n",
    "\n",
    "rho_dq_arr = [t * 0.1 for t in range(1, 10)]\n",
    "merror_arr = []\n",
    "for rho_dq in  rho_dq_arr:\n",
    "    rho_mwem = 1 - rho_dq\n",
    "    merr = get_dq_mwem_answers(data, real_ans, query_manager, N, rho_dq, rho_mwem)\n",
    "    merror_arr.append(merr)\n",
    "\n",
    "\n"
   ],
   "metadata": {
    "collapsed": false,
    "pycharm": {
     "name": "#%%\n"
    }
   }
  }
 ],
 "metadata": {
  "kernelspec": {
   "display_name": "Python 3",
   "language": "python",
   "name": "python3"
  },
  "language_info": {
   "codemirror_mode": {
    "name": "ipython",
    "version": 2
   },
   "file_extension": ".py",
   "mimetype": "text/x-python",
   "name": "python",
   "nbconvert_exporter": "python",
   "pygments_lexer": "ipython2",
   "version": "2.7.6"
  }
 },
 "nbformat": 4,
 "nbformat_minor": 0
}